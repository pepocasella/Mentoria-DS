{
 "cells": [
  {
   "cell_type": "code",
   "execution_count": 7,
   "id": "80620883",
   "metadata": {
    "ExecuteTime": {
     "end_time": "2024-06-14T18:45:22.652641Z",
     "start_time": "2024-06-14T18:45:22.647914Z"
    }
   },
   "outputs": [],
   "source": [
    "import pandas as pd\n",
    "import numpy as np\n",
    "\n",
    "import seaborn as sns\n",
    "import matplotlib.pyplot as plt\n",
    "\n",
    "plt.style.use('ggplot')\n",
    "\n",
    "plt.rcParams['figure.figsize'] = (16,6)\n",
    "plt.rcParams['axes.titlesize'] = 12\n",
    "plt.rcParams['axes.labelsize'] = 10\n",
    "plt.rcParams['lines.linewidth'] = 3\n",
    "plt.rcParams['lines.markersize'] = 10\n",
    "plt.rcParams['legend.fontsize'] = 10\n",
    "plt.rcParams['xtick.labelsize'] = 10\n",
    "plt.rcParams['ytick.labelsize'] = 10"
   ]
  },
  {
   "cell_type": "markdown",
   "id": "eb049f14",
   "metadata": {},
   "source": [
    "# Data Creation"
   ]
  },
  {
   "cell_type": "markdown",
   "id": "92c98d7f",
   "metadata": {},
   "source": [
    "The linear function formulas are: y = mx + b (slope-intercept form) y−y1=m(x−x1) y − y 1 = m ( x − x 1 ) (point-slope form) Ax + By = C (standard form)\n",
    "\n",
    "$$\n",
    "f(x) = 2 \\cdot X + 1\n",
    "$$"
   ]
  },
  {
   "cell_type": "code",
   "execution_count": 8,
   "id": "8099d16b",
   "metadata": {
    "ExecuteTime": {
     "end_time": "2024-06-14T18:45:24.364260Z",
     "start_time": "2024-06-14T18:45:24.359951Z"
    }
   },
   "outputs": [],
   "source": [
    "x = np.arange(9)\n",
    "y = 2*x + 1\n",
    "\n",
    "df = pd.DataFrame({\n",
    "    'x':x,\n",
    "    'y':y\n",
    "})"
   ]
  },
  {
   "cell_type": "code",
   "execution_count": 4,
   "id": "c6062457",
   "metadata": {
    "ExecuteTime": {
     "end_time": "2024-06-14T18:45:01.744166Z",
     "start_time": "2024-06-14T18:45:01.727425Z"
    }
   },
   "outputs": [
    {
     "data": {
      "text/html": [
       "<div>\n",
       "<style scoped>\n",
       "    .dataframe tbody tr th:only-of-type {\n",
       "        vertical-align: middle;\n",
       "    }\n",
       "\n",
       "    .dataframe tbody tr th {\n",
       "        vertical-align: top;\n",
       "    }\n",
       "\n",
       "    .dataframe thead th {\n",
       "        text-align: right;\n",
       "    }\n",
       "</style>\n",
       "<table border=\"1\" class=\"dataframe\">\n",
       "  <thead>\n",
       "    <tr style=\"text-align: right;\">\n",
       "      <th></th>\n",
       "      <th>x</th>\n",
       "      <th>y</th>\n",
       "    </tr>\n",
       "  </thead>\n",
       "  <tbody>\n",
       "    <tr>\n",
       "      <th>0</th>\n",
       "      <td>0</td>\n",
       "      <td>1</td>\n",
       "    </tr>\n",
       "    <tr>\n",
       "      <th>1</th>\n",
       "      <td>1</td>\n",
       "      <td>3</td>\n",
       "    </tr>\n",
       "    <tr>\n",
       "      <th>2</th>\n",
       "      <td>2</td>\n",
       "      <td>5</td>\n",
       "    </tr>\n",
       "    <tr>\n",
       "      <th>3</th>\n",
       "      <td>3</td>\n",
       "      <td>7</td>\n",
       "    </tr>\n",
       "    <tr>\n",
       "      <th>4</th>\n",
       "      <td>4</td>\n",
       "      <td>9</td>\n",
       "    </tr>\n",
       "    <tr>\n",
       "      <th>5</th>\n",
       "      <td>5</td>\n",
       "      <td>11</td>\n",
       "    </tr>\n",
       "    <tr>\n",
       "      <th>6</th>\n",
       "      <td>6</td>\n",
       "      <td>13</td>\n",
       "    </tr>\n",
       "    <tr>\n",
       "      <th>7</th>\n",
       "      <td>7</td>\n",
       "      <td>15</td>\n",
       "    </tr>\n",
       "    <tr>\n",
       "      <th>8</th>\n",
       "      <td>8</td>\n",
       "      <td>17</td>\n",
       "    </tr>\n",
       "  </tbody>\n",
       "</table>\n",
       "</div>"
      ],
      "text/plain": [
       "   x   y\n",
       "0  0   1\n",
       "1  1   3\n",
       "2  2   5\n",
       "3  3   7\n",
       "4  4   9\n",
       "5  5  11\n",
       "6  6  13\n",
       "7  7  15\n",
       "8  8  17"
      ]
     },
     "execution_count": 4,
     "metadata": {},
     "output_type": "execute_result"
    }
   ],
   "source": [
    "df"
   ]
  },
  {
   "cell_type": "markdown",
   "id": "bbf67fe6",
   "metadata": {},
   "source": [
    "# Linear Model"
   ]
  },
  {
   "cell_type": "code",
   "execution_count": 9,
   "id": "d26a74e6",
   "metadata": {
    "ExecuteTime": {
     "end_time": "2024-06-14T18:47:21.031466Z",
     "start_time": "2024-06-14T18:47:20.517628Z"
    }
   },
   "outputs": [],
   "source": [
    "from sklearn import linear_model\n",
    "lin_reg = linear_model.LinearRegression()"
   ]
  },
  {
   "cell_type": "markdown",
   "id": "781b28f5",
   "metadata": {},
   "source": [
    "```Simple Model```"
   ]
  },
  {
   "cell_type": "code",
   "execution_count": 10,
   "id": "b8f1acfa",
   "metadata": {
    "ExecuteTime": {
     "end_time": "2024-06-14T18:47:25.597794Z",
     "start_time": "2024-06-14T18:47:25.479674Z"
    }
   },
   "outputs": [
    {
     "data": {
      "text/plain": [
       "array([2.])"
      ]
     },
     "execution_count": 10,
     "metadata": {},
     "output_type": "execute_result"
    }
   ],
   "source": [
    "X = x[:, np.newaxis]\n",
    "lin_reg.fit(X, df.y)\n",
    "\n",
    "lin_reg.coef_"
   ]
  },
  {
   "cell_type": "code",
   "execution_count": 12,
   "id": "cf28cecb",
   "metadata": {
    "ExecuteTime": {
     "end_time": "2024-06-14T18:47:35.308357Z",
     "start_time": "2024-06-14T18:47:35.303318Z"
    }
   },
   "outputs": [
    {
     "data": {
      "text/plain": [
       "0.9999999999999982"
      ]
     },
     "execution_count": 12,
     "metadata": {},
     "output_type": "execute_result"
    }
   ],
   "source": [
    "lin_reg.intercept_"
   ]
  },
  {
   "cell_type": "code",
   "execution_count": 13,
   "id": "7c8cd97a",
   "metadata": {
    "ExecuteTime": {
     "end_time": "2024-06-14T18:47:52.506646Z",
     "start_time": "2024-06-14T18:47:52.503891Z"
    }
   },
   "outputs": [],
   "source": [
    "y_lin_reg = lin_reg.predict(X)"
   ]
  },
  {
   "cell_type": "code",
   "execution_count": 14,
   "id": "19fbd544",
   "metadata": {
    "ExecuteTime": {
     "end_time": "2024-06-14T18:47:54.655975Z",
     "start_time": "2024-06-14T18:47:54.383037Z"
    }
   },
   "outputs": [
    {
     "data": {
      "text/plain": [
       "<matplotlib.legend.Legend at 0x1ad11e248d0>"
      ]
     },
     "execution_count": 14,
     "metadata": {},
     "output_type": "execute_result"
    },
    {
     "data": {
      "image/png": "[encoded data removed]",
      "text/plain": [
       "<Figure size 1600x600 with 1 Axes>"
      ]
     },
     "metadata": {},
     "output_type": "display_data"
    }
   ],
   "source": [
    "plt.scatter(X, y, alpha=.7, color='red', marker=\"o\", label='Real', s=200)\n",
    "plt.scatter(X, y_lin_reg, alpha=.5, color='blue', marker=\"s\", label='Prediction', s=50)\n",
    "plt.legend()"
   ]
  },
  {
   "cell_type": "markdown",
   "id": "839868af",
   "metadata": {},
   "source": [
    "# Linear equation + noise"
   ]
  },
  {
   "cell_type": "markdown",
   "id": "ea452287",
   "metadata": {},
   "source": [
    "```Adding Complexity```\n",
    "\n",
    "\n",
    "$$\n",
    "f(x) = 2 \\cdot X + 1 + noise\n",
    "$$"
   ]
  },
  {
   "cell_type": "code",
   "execution_count": 16,
   "id": "57743c3e",
   "metadata": {
    "ExecuteTime": {
     "end_time": "2024-06-14T18:48:56.795191Z",
     "start_time": "2024-06-14T18:48:56.790642Z"
    }
   },
   "outputs": [
    {
     "name": "stdout",
     "output_type": "stream",
     "text": [
      "[ 0.8715873   2.47699428 -0.27743187  0.56181942  0.24111912  0.89012599\n",
      " -1.20714852 -0.09228608  0.72647039 -0.15720621 -0.38491616 -1.79855729\n",
      " -0.47979587 -0.54052417  0.12279384  0.07086034 -0.93885595 -0.68589093\n",
      " -0.96857646 -0.27136439]\n"
     ]
    }
   ],
   "source": [
    "import numpy as np\n",
    "mu, sigma = 0, 0.9 # mean and std\n",
    "noise = np.random.normal(mu, sigma, [20,1]).ravel() \n",
    "print(noise)"
   ]
  },
  {
   "cell_type": "code",
   "execution_count": 17,
   "id": "ea4739d7",
   "metadata": {
    "ExecuteTime": {
     "end_time": "2024-06-14T18:49:22.260263Z",
     "start_time": "2024-06-14T18:49:22.111840Z"
    }
   },
   "outputs": [
    {
     "name": "stderr",
     "output_type": "stream",
     "text": [
      "No artists with labels found to put in legend.  Note that artists whose label start with an underscore are ignored when legend() is called with no argument.\n"
     ]
    },
    {
     "data": {
      "text/plain": [
       "<matplotlib.legend.Legend at 0x1ad11b71e10>"
      ]
     },
     "execution_count": 17,
     "metadata": {},
     "output_type": "execute_result"
    },
    {
     "data": {
      "image/png": "[encoded data removed]",
      "text/plain": [
       "<Figure size 1600x600 with 1 Axes>"
      ]
     },
     "metadata": {},
     "output_type": "display_data"
    }
   ],
   "source": [
    "np.random.seed(42)\n",
    "\n",
    "X = np.random.random(size=(20,1))\n",
    "\n",
    "# Noise function creation\n",
    "noise = np.random.randn(20)\n",
    "# Draw random samples from a normal (Gaussian) distribution.\n",
    "mu, sigma = 0, 0.9 # mean and std\n",
    "noise = np.random.normal(mu, sigma, [20,1]).ravel() # creating a noise with the same dimension as the dataset (2,2) \n",
    "\n",
    "y = 2 * X.ravel() + 1 + noise # 𝑓(𝑥)=3⋅𝑋+2+𝑛𝑜𝑖𝑠𝑒\n",
    "\n",
    "df = pd.DataFrame({\n",
    "    'x':X.ravel(),\n",
    "    'y':y\n",
    "})\n",
    "\n",
    "plt.scatter(X,y)\n",
    "plt.legend()"
   ]
  },
  {
   "cell_type": "markdown",
   "id": "5bac1cd8",
   "metadata": {},
   "source": [
    "# Lienar Regression"
   ]
  },
  {
   "cell_type": "code",
   "execution_count": 18,
   "id": "0f6bce41",
   "metadata": {
    "ExecuteTime": {
     "end_time": "2024-06-14T18:50:29.628388Z",
     "start_time": "2024-06-14T18:50:29.623633Z"
    }
   },
   "outputs": [],
   "source": [
    "lin_reg.fit(X, y)\n",
    "\n",
    "X_all = np.linspace(0, 1 , 100)[:, np.newaxis]\n",
    "\n",
    "y_pred = lin_reg.predict(X_all)"
   ]
  },
  {
   "cell_type": "code",
   "execution_count": 19,
   "id": "b979a04c",
   "metadata": {
    "ExecuteTime": {
     "end_time": "2024-06-14T18:50:30.374472Z",
     "start_time": "2024-06-14T18:50:30.191143Z"
    }
   },
   "outputs": [
    {
     "data": {
      "text/plain": [
       "<matplotlib.legend.Legend at 0x1ad12f39d10>"
      ]
     },
     "execution_count": 19,
     "metadata": {},
     "output_type": "execute_result"
    },
    {
     "data": {
      "image/png": "[encoded data removed]",
      "text/plain": [
       "<Figure size 1600x600 with 1 Axes>"
      ]
     },
     "metadata": {},
     "output_type": "display_data"
    }
   ],
   "source": [
    "plt.scatter(X.ravel(), y, label='Real')\n",
    "plt.scatter(X_all.ravel(), y_pred, label='Prediction')\n",
    "plt.legend()"
   ]
  },
  {
   "cell_type": "markdown",
   "id": "2a750f07",
   "metadata": {},
   "source": [
    "# Random Forest Regressor"
   ]
  },
  {
   "cell_type": "code",
   "execution_count": 20,
   "id": "e4784fba",
   "metadata": {
    "ExecuteTime": {
     "end_time": "2024-06-14T19:07:38.420124Z",
     "start_time": "2024-06-14T19:07:38.270524Z"
    }
   },
   "outputs": [],
   "source": [
    "from sklearn.ensemble import RandomForestRegressor\n",
    "from sklearn.metrics import mean_squared_error, r2_score, mean_absolute_error\n",
    "\n",
    "rf = RandomForestRegressor()"
   ]
  },
  {
   "cell_type": "code",
   "execution_count": 21,
   "id": "78dd863c",
   "metadata": {
    "ExecuteTime": {
     "end_time": "2024-06-14T19:07:39.085051Z",
     "start_time": "2024-06-14T19:07:38.941719Z"
    }
   },
   "outputs": [
    {
     "data": {
      "text/plain": [
       "{'bootstrap': True,\n",
       " 'ccp_alpha': 0.0,\n",
       " 'criterion': 'squared_error',\n",
       " 'max_depth': None,\n",
       " 'max_features': 1.0,\n",
       " 'max_leaf_nodes': None,\n",
       " 'max_samples': None,\n",
       " 'min_impurity_decrease': 0.0,\n",
       " 'min_samples_leaf': 1,\n",
       " 'min_samples_split': 2,\n",
       " 'min_weight_fraction_leaf': 0.0,\n",
       " 'n_estimators': 100,\n",
       " 'n_jobs': None,\n",
       " 'oob_score': False,\n",
       " 'random_state': None,\n",
       " 'verbose': 0,\n",
       " 'warm_start': False}"
      ]
     },
     "execution_count": 21,
     "metadata": {},
     "output_type": "execute_result"
    }
   ],
   "source": [
    "rf.fit(X,y)\n",
    "rf.get_params()"
   ]
  },
  {
   "cell_type": "code",
   "execution_count": 22,
   "id": "a698791f",
   "metadata": {
    "ExecuteTime": {
     "end_time": "2024-06-14T19:07:40.472581Z",
     "start_time": "2024-06-14T19:07:40.461769Z"
    }
   },
   "outputs": [],
   "source": [
    "y_pred_rf = rf.predict(X)"
   ]
  },
  {
   "cell_type": "code",
   "execution_count": 23,
   "id": "ed3515c4",
   "metadata": {
    "ExecuteTime": {
     "end_time": "2024-06-14T19:07:40.836551Z",
     "start_time": "2024-06-14T19:07:40.797737Z"
    }
   },
   "outputs": [],
   "source": [
    "df['y_pred_rf'] = y_pred_rf"
   ]
  },
  {
   "cell_type": "code",
   "execution_count": 24,
   "id": "45781c23",
   "metadata": {
    "ExecuteTime": {
     "end_time": "2024-06-14T19:07:41.234027Z",
     "start_time": "2024-06-14T19:07:41.054011Z"
    }
   },
   "outputs": [
    {
     "data": {
      "text/plain": [
       "<matplotlib.legend.Legend at 0x1ad130221d0>"
      ]
     },
     "execution_count": 24,
     "metadata": {},
     "output_type": "execute_result"
    },
    {
     "data": {
      "image/png": "[encoded data removed]",
      "text/plain": [
       "<Figure size 1600x600 with 1 Axes>"
      ]
     },
     "metadata": {},
     "output_type": "display_data"
    }
   ],
   "source": [
    "plt.scatter(df.x, y, label='Real')\n",
    "plt.scatter(df.x, y_pred_rf, alpha=0.5, label='Prediction')\n",
    "plt.legend()"
   ]
  },
  {
   "cell_type": "code",
   "execution_count": 25,
   "id": "6c0621a2",
   "metadata": {
    "ExecuteTime": {
     "end_time": "2024-06-14T19:07:41.379440Z",
     "start_time": "2024-06-14T19:07:41.374822Z"
    }
   },
   "outputs": [
    {
     "name": "stdout",
     "output_type": "stream",
     "text": [
      "Mean Absolute Error: 0.31\n",
      "Mean Squared Error: 0.14\n",
      "Root Mean Squared Error: 0.37\n",
      "R-squared scores: 0.84\n"
     ]
    }
   ],
   "source": [
    "# Mean absolute error (MAE)\n",
    "mae = mean_absolute_error(y, y_pred_rf)\n",
    "# Mean squared error (MSE)\n",
    "mse = mean_squared_error(y, y_pred_rf)\n",
    "# R-squared scores\n",
    "r2 = r2_score(y, y_pred_rf)\n",
    "\n",
    "# Print metrics\n",
    "print('Mean Absolute Error:', round(mae, 2))\n",
    "print('Mean Squared Error:', round(mse, 2))\n",
    "print('Root Mean Squared Error:', round(np.sqrt(mse), 2))\n",
    "print('R-squared scores:', round(r2, 2))"
   ]
  },
  {
   "cell_type": "code",
   "execution_count": null,
   "id": "b07076ad",
   "metadata": {},
   "outputs": [],
   "source": []
  }
 ],
 "metadata": {
  "hide_input": false,
  "kernelspec": {
   "display_name": "Python 3 (ipykernel)",
   "language": "python",
   "name": "python3"
  },
  "language_info": {
   "codemirror_mode": {
    "name": "ipython",
    "version": 3
   },
   "file_extension": ".py",
   "mimetype": "text/x-python",
   "name": "python",
   "nbconvert_exporter": "python",
   "pygments_lexer": "ipython3",
   "version": "3.11.7"
  },
  "toc": {
   "base_numbering": 1,
   "nav_menu": {},
   "number_sections": true,
   "sideBar": true,
   "skip_h1_title": false,
   "title_cell": "Table of Contents",
   "title_sidebar": "Contents",
   "toc_cell": false,
   "toc_position": {
    "height": "calc(100% - 180px)",
    "left": "10px",
    "top": "150px",
    "width": "217px"
   },
   "toc_section_display": true,
   "toc_window_display": true
  },
  "varInspector": {
   "cols": {
    "lenName": 16,
    "lenType": 16,
    "lenVar": 40
   },
   "kernels_config": {
    "python": {
     "delete_cmd_postfix": "",
     "delete_cmd_prefix": "del ",
     "library": "var_list.py",
     "varRefreshCmd": "print(var_dic_list())"
    },
    "r": {
     "delete_cmd_postfix": ") ",
     "delete_cmd_prefix": "rm(",
     "library": "var_list.r",
     "varRefreshCmd": "cat(var_dic_list()) "
    }
   },
   "types_to_exclude": [
    "module",
    "function",
    "builtin_function_or_method",
    "instance",
    "_Feature"
   ],
   "window_display": false
  }
 },
 "nbformat": 4,
 "nbformat_minor": 5
}
